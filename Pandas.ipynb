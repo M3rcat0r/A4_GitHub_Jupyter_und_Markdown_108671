{
 "cells": [
  {
   "cell_type": "markdown",
   "id": "a1c67f0c-925b-4bd2-bfba-7235a3af568a",
   "metadata": {},
   "source": [
    "# Introduction to Pandas DataFrames"
   ]
  },
  {
   "cell_type": "markdown",
   "id": "e04ad20b-7cde-484a-b79c-3954d78b6a2a",
   "metadata": {},
   "source": [
    "![Panda and Python](Pandas.webp)"
   ]
  },
  {
   "cell_type": "markdown",
   "id": "9a0d953c-d0b5-44a6-ab0e-7125c2c55950",
   "metadata": {},
   "source": [
    "[Pandas](https://pandas.pydata.org/) is a powerful and versatile library for Python, designed primarily for data manipulation and analysis. To quote from Nvidia’s website:"
   ]
  },
  {
   "cell_type": "markdown",
   "id": "14821836-b901-4675-a3a1-cf24b7a6d06e",
   "metadata": {},
   "source": [
    ">Pandas is the most popular software library for data manipulation and data analysis for the Python programming language. [(www.nvidia.com)](https://www.nvidia.com/en-us/glossary/pandas-python/)"
   ]
  },
  {
   "cell_type": "markdown",
   "id": "b593641f-d813-46c1-8eb6-b753172384db",
   "metadata": {},
   "source": [
    "Here is an (incomplete) list of some key functionalities provided by Pandas:"
   ]
  },
  {
   "cell_type": "markdown",
   "id": "8ef05301-5751-40dc-be96-2f82a556c817",
   "metadata": {},
   "source": [
    "1. **Data Structures**\n",
    "    - Series: One-dimensional labeled array capable of holding data of any type.\n",
    "    - DataFrame: Two-dimensional, size-mutable, potentially heterogeneous tabular data structure with labeled axes (rows and columns).\n",
    "2. **Data Manipulation**\n",
    "    - Data Selection and Indexing: Access data via labels, indices, or boolean masks (`.loc`, `.iloc`, `.at`, `.iat`).\n",
    "    - Filtering: Filter data based on conditions or queries.\n",
    "    - Sorting: Sort data by labels or values.\n",
    "    - Handling Missing Data: Identify, fill, or drop missing values (`isnull`, `dropna`, `fillna`).\n",
    "3. **Data Cleaning**\n",
    "    - Dropping Duplicates: Remove duplicate rows or columns.\n",
    "    - Replacing Values: Replace specific values in the DataFrame.\n",
    "    - String Operations: Perform operations on string data, like splitting, replacing, and pattern matching (`str.split`, `str.replace`).\n",
    "4. **Aggregation and Grouping**\n",
    "    - Group By: Split data into groups based on criteria, and perform aggregate functions like sum, mean, or custom operations.\n",
    "    - Pivot Tables: Create a pivot table to summarize data.\n",
    "5. **Merging and Joining**\n",
    "    - Concatenation: Combine multiple DataFrames along a particular axis.\n",
    "    - Merging: Merge DataFrames similar to SQL joins (`merge`, `join`).\n",
    "6. **Time Series**\n",
    "    - Datetime Conversion: Convert date and time data to a datetime object.\n",
    "    - Resampling: Aggregate data over a time period.\n",
    "    - Time-based Indexing: Access and manipulate time-series data easily with date indexing.\n",
    "7. **Statistical and Mathematical Operations**\n",
    "    - Descriptive Statistics: Compute summary statistics for DataFrame columns.\n",
    "    - Correlation/ Covariance: Calculate the pairwise correlation or covariance between columns.\n",
    "    - Cumulative Operations: Perform cumulative operations on data."
   ]
  },
  {
   "cell_type": "markdown",
   "id": "0160a400-c54e-4aea-8f90-5631d1daa8d8",
   "metadata": {},
   "source": [
    "At the heart of Pandas lies the DataFrame, a two-dimensional labeled data structure with columns of potentially different types, similar to a table in a relational database or an Excel spreadsheet. Understanding DataFrames is crucial for anyone looking to perform data analysis in Python."
   ]
  },
  {
   "cell_type": "markdown",
   "id": "f8dc19fa-3179-4586-b6af-37d28ec64d45",
   "metadata": {},
   "source": [
    "## What is a DataFrame?"
   ]
  },
  {
   "cell_type": "markdown",
   "id": "1dc7f882-40e4-4da4-8b81-d2428bb9e883",
   "metadata": {},
   "source": [
    "___"
   ]
  },
  {
   "cell_type": "markdown",
   "id": "00f8abf5-e445-43b8-8d4f-b8a4ded77618",
   "metadata": {},
   "source": [
    "A DataFrame is a table-like structure in Pandas that consists of rows and columns, where each column can hold different data types (e.g., integers, floats, strings). You can think of it as a collection of Series objects, where each Series is a single column of data. DataFrames provide a highly efficient way to store and manipulate large datasets in memory."
   ]
  },
  {
   "cell_type": "markdown",
   "id": "bd9befbb-6153-4cc8-be5d-30b0156c40ed",
   "metadata": {},
   "source": [
    "## Creating a DataFrame"
   ]
  },
  {
   "cell_type": "markdown",
   "id": "b0636673-7b6c-4bf6-a3d4-a114f2605223",
   "metadata": {},
   "source": [
    "---"
   ]
  },
  {
   "cell_type": "markdown",
   "id": "d66143ca-2a3a-46cf-ac7e-b97092b84019",
   "metadata": {},
   "source": [
    "There are several ways to create a DataFrame in Pandas, but some of the most common methods are:"
   ]
  },
  {
   "cell_type": "markdown",
   "id": "cc7d0237-5a57-4bd3-b540-3161f2308bb8",
   "metadata": {},
   "source": [
    "1. From a Dictionary\n",
    "2. From a List of Lists\n",
    "3. From a CSV File"
   ]
  },
  {
   "cell_type": "markdown",
   "id": "f877a36e-6897-46c5-a397-f318d057b54b",
   "metadata": {},
   "source": [
    "Below we take a look at the first two approaches."
   ]
  },
  {
   "cell_type": "markdown",
   "id": "b934a1db-75ac-4cc6-b15a-dcc4ad60ed30",
   "metadata": {},
   "source": [
    "### Creating DataFrame from a Dictionary"
   ]
  },
  {
   "cell_type": "markdown",
   "id": "a15876c7-8700-40a7-ab64-89cbad47bcf0",
   "metadata": {},
   "source": [
    "The following code will create a DataFrame with three columns: ‘Name’, ‘Age’, and ‘City’, and three rows corresponding to the data provided in the dictionary. To be able to use Pandas, we first have to import it. This is done using the `command import pandas as pd`, introducing the alias pd for Pandas."
   ]
  },
  {
   "cell_type": "code",
   "execution_count": 7,
   "id": "ef8361f8-f7e2-409c-b67b-02631957cf4e",
   "metadata": {},
   "outputs": [
    {
     "data": {
      "text/html": [
       "<div>\n",
       "<style scoped>\n",
       "    .dataframe tbody tr th:only-of-type {\n",
       "        vertical-align: middle;\n",
       "    }\n",
       "\n",
       "    .dataframe tbody tr th {\n",
       "        vertical-align: top;\n",
       "    }\n",
       "\n",
       "    .dataframe thead th {\n",
       "        text-align: right;\n",
       "    }\n",
       "</style>\n",
       "<table border=\"1\" class=\"dataframe\">\n",
       "  <thead>\n",
       "    <tr style=\"text-align: right;\">\n",
       "      <th></th>\n",
       "      <th>Name</th>\n",
       "      <th>Age</th>\n",
       "      <th>City</th>\n",
       "    </tr>\n",
       "  </thead>\n",
       "  <tbody>\n",
       "    <tr>\n",
       "      <th>0</th>\n",
       "      <td>Alice</td>\n",
       "      <td>25</td>\n",
       "      <td>New York</td>\n",
       "    </tr>\n",
       "    <tr>\n",
       "      <th>1</th>\n",
       "      <td>Bob</td>\n",
       "      <td>30</td>\n",
       "      <td>Los Angeles</td>\n",
       "    </tr>\n",
       "    <tr>\n",
       "      <th>2</th>\n",
       "      <td>Charlie</td>\n",
       "      <td>35</td>\n",
       "      <td>Chicago</td>\n",
       "    </tr>\n",
       "  </tbody>\n",
       "</table>\n",
       "</div>"
      ],
      "text/plain": [
       "      Name  Age         City\n",
       "0    Alice   25     New York\n",
       "1      Bob   30  Los Angeles\n",
       "2  Charlie   35      Chicago"
      ]
     },
     "execution_count": 7,
     "metadata": {},
     "output_type": "execute_result"
    }
   ],
   "source": [
    "import pandas as pd\n",
    "\n",
    "data = {\n",
    "    'Name': ['Alice', 'Bob', 'Charlie'],\n",
    "    'Age': [25, 30, 35],\n",
    "    'City': ['New York', 'Los Angeles', 'Chicago']\n",
    "}\n",
    "\n",
    "df = pd.DataFrame(data)\n",
    "print(df)"
   ]
  },
  {
   "cell_type": "markdown",
   "id": "d75111f2-17c2-4d88-990b-bf87140adf40",
   "metadata": {},
   "source": [
    "### Creating DataFrame from a List of Lists"
   ]
  },
  {
   "cell_type": "markdown",
   "id": "2bef4f66-1dc2-49eb-a0e5-795811d10fe6",
   "metadata": {},
   "source": [
    "Here, we create the DataFrame from a list of lists where each inner list represents the values for one row. Note that We explicitly specify the column names when creating the DataFrame."
   ]
  },
  {
   "cell_type": "code",
   "execution_count": 8,
   "id": "9d3a5c07-fdb4-427a-a009-296a1132b0a1",
   "metadata": {},
   "outputs": [
    {
     "data": {
      "text/html": [
       "<div>\n",
       "<style scoped>\n",
       "    .dataframe tbody tr th:only-of-type {\n",
       "        vertical-align: middle;\n",
       "    }\n",
       "\n",
       "    .dataframe tbody tr th {\n",
       "        vertical-align: top;\n",
       "    }\n",
       "\n",
       "    .dataframe thead th {\n",
       "        text-align: right;\n",
       "    }\n",
       "</style>\n",
       "<table border=\"1\" class=\"dataframe\">\n",
       "  <thead>\n",
       "    <tr style=\"text-align: right;\">\n",
       "      <th></th>\n",
       "      <th>Name</th>\n",
       "      <th>Age</th>\n",
       "      <th>City</th>\n",
       "    </tr>\n",
       "  </thead>\n",
       "  <tbody>\n",
       "    <tr>\n",
       "      <th>0</th>\n",
       "      <td>Alice</td>\n",
       "      <td>25</td>\n",
       "      <td>New York</td>\n",
       "    </tr>\n",
       "    <tr>\n",
       "      <th>1</th>\n",
       "      <td>Bob</td>\n",
       "      <td>30</td>\n",
       "      <td>Los Angeles</td>\n",
       "    </tr>\n",
       "    <tr>\n",
       "      <th>2</th>\n",
       "      <td>Charlie</td>\n",
       "      <td>35</td>\n",
       "      <td>Chicago</td>\n",
       "    </tr>\n",
       "  </tbody>\n",
       "</table>\n",
       "</div>"
      ],
      "text/plain": [
       "      Name  Age         City\n",
       "0    Alice   25     New York\n",
       "1      Bob   30  Los Angeles\n",
       "2  Charlie   35      Chicago"
      ]
     },
     "execution_count": 8,
     "metadata": {},
     "output_type": "execute_result"
    }
   ],
   "source": [
    "data = [\n",
    "    ['Alice', 25, 'New York'],\n",
    "    ['Bob', 30, 'Los Angeles'],\n",
    "    ['Charlie', 35, 'Chicago']\n",
    "]\n",
    "\n",
    "df = pd.DataFrame(data, columns=['Name', 'Age', 'City'])\n",
    "print(df)"
   ]
  },
  {
   "cell_type": "markdown",
   "id": "3051738f-c764-4f1e-b32d-8c9d2e7b17e9",
   "metadata": {},
   "source": [
    "## Accessing Data in a DataFrame"
   ]
  },
  {
   "cell_type": "markdown",
   "id": "b7b7de12-7cdd-47e9-a186-d0759af39428",
   "metadata": {},
   "source": [
    "***"
   ]
  },
  {
   "cell_type": "markdown",
   "id": "6c6cb329-1eb3-4835-8f35-01c12294e485",
   "metadata": {},
   "source": [
    "Once you have a DataFrame, you can access its data in various ways:"
   ]
  },
  {
   "cell_type": "markdown",
   "id": "26bd0e03-57e0-4e9d-9973-9ddc56414c56",
   "metadata": {},
   "source": [
    "+ By column name:"
   ]
  },
  {
   "cell_type": "code",
   "execution_count": 17,
   "id": "8f8a41d5-66ca-44a6-b20d-9a437ea8986b",
   "metadata": {},
   "outputs": [
    {
     "name": "stdout",
     "output_type": "stream",
     "text": [
      "0      Alice\n",
      "1        Bob\n",
      "2    Charlie\n",
      "Name: Name, dtype: object\n"
     ]
    }
   ],
   "source": [
    "print(df['Name'])"
   ]
  },
  {
   "cell_type": "markdown",
   "id": "182e875d-1e15-4145-b791-302af204f555",
   "metadata": {},
   "source": [
    "- By row index:"
   ]
  },
  {
   "cell_type": "code",
   "execution_count": 16,
   "id": "a2a10e67-fb8c-44b0-bdce-36d578f01056",
   "metadata": {},
   "outputs": [
    {
     "name": "stdout",
     "output_type": "stream",
     "text": [
      "Name       Alice\n",
      "Age           25\n",
      "City    New York\n",
      "Name: 0, dtype: object\n"
     ]
    }
   ],
   "source": [
    "print(df.iloc[0])"
   ]
  },
  {
   "cell_type": "markdown",
   "id": "67c78897-6bce-4d27-9d4d-275729227111",
   "metadata": {},
   "source": [
    "* Using both:"
   ]
  },
  {
   "cell_type": "code",
   "execution_count": 15,
   "id": "78fe48cc-17e3-4321-91f7-ab3d47a76d4f",
   "metadata": {},
   "outputs": [
    {
     "name": "stdout",
     "output_type": "stream",
     "text": [
      "Alice\n"
     ]
    }
   ],
   "source": [
    "print(df.loc[0, 'Name'])"
   ]
  },
  {
   "cell_type": "markdown",
   "id": "e094a83c-6eb8-4bab-9f76-29f02a6fe3db",
   "metadata": {},
   "source": [
    "## Conclusion"
   ]
  },
  {
   "cell_type": "markdown",
   "id": "33f6a620-f06e-4fd0-9809-982fd92364a3",
   "metadata": {},
   "source": [
    "---"
   ]
  },
  {
   "cell_type": "markdown",
   "id": "0b9ca0ac-c716-4ed3-b4c2-df3de12d1182",
   "metadata": {},
   "source": [
    "Pandas DataFrames are a fundamental tool in the data analysis toolkit for Python users. They provide a powerful way to organize, manipulate, and analyze data efficiently. Whether you’re working with small datasets or handling large-scale data, mastering DataFrames will allow you to tackle a wide range of data-related tasks with ease."
   ]
  },
  {
   "cell_type": "markdown",
   "id": "80c91636-1d41-4064-bd35-b80115f1898f",
   "metadata": {},
   "source": [
    "In this introduction, we’ve covered the basics of what a DataFrame is, how to create one, and how to access columns, rows, and individual cells in a DataFrame. As you continue to explore Pandas, you’ll discover many more features and capabilities that make DataFrames an indispensable part of Python programming. The table below contains a number of resources related to Pandas."
   ]
  },
  {
   "cell_type": "markdown",
   "id": "fdc732a3-8dfc-472a-b481-e9b9d742fdaa",
   "metadata": {},
   "source": [
    "---"
   ]
  },
  {
   "cell_type": "markdown",
   "id": "f9ad6a91-c50a-4955-abdf-efe92075205f",
   "metadata": {},
   "source": [
    "| **Resource** | **Description** |\n",
    "| :---- | :---- |\n",
    "| [Pandas Documentation](https://pandas.pydata.org/)|Official documentation for Pandas.|\n",
    "|[Python for Data Analysis](https://www.oreilly.com/library/view/python-for-data/9781491957653/)|Comprehensive guide by Pandas creator, Wes McKinney.|\n",
    "|[Real Python: The Pandas DataFrame](https://realpython.com/pandas-dataframe/)|Tutorials on using Pandas for data analysis.|\n",
    "|[Kaggle Pandas](https://www.kaggle.com/learn/pandas)|Free introductory course on Pandas by Kaggle.|\n",
    "|[DataCamp Pandas Tutorial](https://www.kaggle.com/learn/pandas)|Detailed tutorials and exercises on Pandas.|"
   ]
  }
 ],
 "metadata": {
  "kernelspec": {
   "display_name": "Python 3 (ipykernel)",
   "language": "python",
   "name": "python3"
  },
  "language_info": {
   "codemirror_mode": {
    "name": "ipython",
    "version": 3
   },
   "file_extension": ".py",
   "mimetype": "text/x-python",
   "name": "python",
   "nbconvert_exporter": "python",
   "pygments_lexer": "ipython3",
   "version": "3.11.13"
  }
 },
 "nbformat": 4,
 "nbformat_minor": 5
}
