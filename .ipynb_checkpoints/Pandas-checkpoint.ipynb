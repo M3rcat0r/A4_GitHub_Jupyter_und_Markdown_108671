{
 "cells": [
  {
   "cell_type": "markdown",
   "id": "a1c67f0c-925b-4bd2-bfba-7235a3af568a",
   "metadata": {},
   "source": [
    "# Introduction to Pandas DataFrames"
   ]
  },
  {
   "cell_type": "markdown",
   "id": "e04ad20b-7cde-484a-b79c-3954d78b6a2a",
   "metadata": {},
   "source": [
    "![Panda and Python](Pandas.webp)"
   ]
  },
  {
   "cell_type": "markdown",
   "id": "9a0d953c-d0b5-44a6-ab0e-7125c2c55950",
   "metadata": {},
   "source": [
    "[Pandas](https://pandas.pydata.org/) is a powerful and versatile library for Python, designed primarily for data manipulation and analysis. To quote from Nvidia’s website:"
   ]
  },
  {
   "cell_type": "markdown",
   "id": "14821836-b901-4675-a3a1-cf24b7a6d06e",
   "metadata": {},
   "source": [
    ">Pandas is the most popular software library for data manipulation and data analysis for the Python programming language. [(www.nvidia.com)](https://www.nvidia.com/en-us/glossary/pandas-python/)"
   ]
  },
  {
   "cell_type": "markdown",
   "id": "b593641f-d813-46c1-8eb6-b753172384db",
   "metadata": {},
   "source": [
    "Here is an (incomplete) list of some key functionalities provided by Pandas:"
   ]
  },
  {
   "cell_type": "markdown",
   "id": "8ef05301-5751-40dc-be96-2f82a556c817",
   "metadata": {},
   "source": [
    "1. **Data Structures**\n",
    "    - Series: One-dimensional labeled array capable of holding data of any type.\n",
    "    - DataFrame: Two-dimensional, size-mutable, potentially heterogeneous tabular data structure with labeled axes (rows and columns).\n",
    "2. **Data Manipulation**\n",
    "    - Data Selection and Indexing: Access data via labels, indices, or boolean masks (`.loc`, `.iloc`, `.at`, `.iat`).\n",
    "    - Filtering: Filter data based on conditions or queries.\n",
    "    - Sorting: Sort data by labels or values.\n",
    "    - Handling Missing Data: Identify, fill, or drop missing values (`isnull`, `dropna`, `fillna`).\n",
    "3. **Data Cleaning**\n",
    "    - Dropping Duplicates: Remove duplicate rows or columns.\n",
    "    - Replacing Values: Replace specific values in the DataFrame.\n",
    "    - String Operations: Perform operations on string data, like splitting, replacing, and pattern matching (`str.split`, `str.replace`).\n",
    "4. **Aggregation and Grouping**\n",
    "    - Group By: Split data into groups based on criteria, and perform aggregate functions like sum, mean, or custom operations.\n",
    "    - Pivot Tables: Create a pivot table to summarize data.\n",
    "5. **Merging and Joining**\n",
    "    - Concatenation: Combine multiple DataFrames along a particular axis.\n",
    "    - Merging: Merge DataFrames similar to SQL joins (`merge`, `join`).\n",
    "6. **Time Series**\n",
    "    - Datetime Conversion: Convert date and time data to a datetime object.\n",
    "    - Resampling: Aggregate data over a time period.\n",
    "    - Time-based Indexing: Access and manipulate time-series data easily with date indexing.\n",
    "7. **Statistical and Mathematical Operations**\n",
    "    - Descriptive Statistics: Compute summary statistics for DataFrame columns.\n",
    "    - Correlation/ Covariance: Calculate the pairwise correlation or covariance between columns.\n",
    "    - Cumulative Operations: Perform cumulative operations on data."
   ]
  },
  {
   "cell_type": "markdown",
   "id": "0160a400-c54e-4aea-8f90-5631d1daa8d8",
   "metadata": {},
   "source": [
    "At the heart of Pandas lies the DataFrame, a two-dimensional labeled data structure with columns of potentially different types, similar to a table in a relational database or an Excel spreadsheet. Understanding DataFrames is crucial for anyone looking to perform data analysis in Python."
   ]
  },
  {
   "cell_type": "markdown",
   "id": "f8dc19fa-3179-4586-b6af-37d28ec64d45",
   "metadata": {},
   "source": [
    "## What is a DataFrame?"
   ]
  },
  {
   "cell_type": "markdown",
   "id": "1dc7f882-40e4-4da4-8b81-d2428bb9e883",
   "metadata": {},
   "source": [
    "___"
   ]
  },
  {
   "cell_type": "markdown",
   "id": "cc4365a7-d3d2-42c6-b44f-b81652a24956",
   "metadata": {},
   "source": []
  }
 ],
 "metadata": {
  "kernelspec": {
   "display_name": "Python 3 (ipykernel)",
   "language": "python",
   "name": "python3"
  },
  "language_info": {
   "codemirror_mode": {
    "name": "ipython",
    "version": 3
   },
   "file_extension": ".py",
   "mimetype": "text/x-python",
   "name": "python",
   "nbconvert_exporter": "python",
   "pygments_lexer": "ipython3",
   "version": "3.11.13"
  }
 },
 "nbformat": 4,
 "nbformat_minor": 5
}
